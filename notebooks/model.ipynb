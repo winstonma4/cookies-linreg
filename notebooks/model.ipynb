{
 "cells": [
  {
   "cell_type": "code",
   "execution_count": null,
   "metadata": {
    "ExecuteTime": {
     "end_time": "2019-04-18T18:49:37.533936Z",
     "start_time": "2019-04-18T18:49:36.164691Z"
    }
   },
   "outputs": [],
   "source": [
    "import pandas as pd\n",
    "import numpy as np\n",
    "import matplotlib.pyplot as plt\n",
    "import seaborn as sns\n",
    "import pickle as pkl\n",
    "%matplotlib inline\n",
    "from sklearn.linear_model import LinearRegression, Lasso, LassoCV, Ridge, RidgeCV\n",
    "from sklearn.model_selection import train_test_split\n",
    "from sklearn.ensemble import RandomForestRegressor\n",
    "from sklearn.metrics import r2_score, mean_absolute_error, mean_squared_error\n",
    "from sklearn.pipeline import Pipeline\n",
    "from sklearn.preprocessing import StandardScaler\n",
    "import statsmodels.api as sm\n",
    "from scipy import stats"
   ]
  },
  {
   "cell_type": "code",
   "execution_count": null,
   "metadata": {
    "ExecuteTime": {
     "end_time": "2019-04-17T16:32:08.665583Z",
     "start_time": "2019-04-17T16:32:08.662218Z"
    }
   },
   "outputs": [],
   "source": [
    "pd.set_option('display.max_columns', 200)\n",
    "pd.set_option('display.max_rows', 200)"
   ]
  },
  {
   "cell_type": "code",
   "execution_count": null,
   "metadata": {
    "ExecuteTime": {
     "end_time": "2019-04-18T18:49:44.387633Z",
     "start_time": "2019-04-18T18:49:44.381194Z"
    }
   },
   "outputs": [],
   "source": [
    "with open('df_all_cols.pkl', 'rb') as file:\n",
    "    df = pkl.load(file)"
   ]
  },
  {
   "cell_type": "markdown",
   "metadata": {},
   "source": [
    "# Linear Regression (sklearn)"
   ]
  },
  {
   "cell_type": "code",
   "execution_count": null,
   "metadata": {
    "ExecuteTime": {
     "end_time": "2019-04-18T19:01:26.426301Z",
     "start_time": "2019-04-18T19:01:26.422181Z"
    }
   },
   "outputs": [],
   "source": [
    "# features that I wanted to keep\n",
    "df_features_cols = ['num_ratings', 'num_reviews', 'made_it', 'servings',\n",
    "       'calories', 'num_photos', 'oven_temp', 'prep_time_minutes', 'egg_whole',\n",
    "       'vanilla_extract_ml', 'salt_g', 'cinnamon_g', 'baking_soda_g',\n",
    "       'baking_powder_g', 'water_ml', 'cocoa_powder_g', 'fats',\n",
    "       'sugars', 'flours', 'nuts', 'chocolate_chips',\n",
    "       'num_ingredients', 'fats_flours_ratio', 'fats_sugars_ratio',\n",
    "       'sugars_flours_ratio', 'chips_nuts_ratio', 'white_brown_ratio']"
   ]
  },
  {
   "cell_type": "code",
   "execution_count": null,
   "metadata": {
    "ExecuteTime": {
     "end_time": "2019-04-18T21:20:15.666115Z",
     "start_time": "2019-04-18T21:20:15.660328Z"
    }
   },
   "outputs": [],
   "source": [
    "# manual train-test-holdout split\n",
    "X, X_test, y, y_test = train_test_split(df[df_features_cols], df['rating'], test_size=0.2, random_state=59)\n",
    "X_train, X_val, y_train, y_val = train_test_split(X, y, test_size=0.25, random_state=59)"
   ]
  },
  {
   "cell_type": "code",
   "execution_count": null,
   "metadata": {
    "ExecuteTime": {
     "end_time": "2019-04-18T21:20:16.691337Z",
     "start_time": "2019-04-18T21:20:16.644487Z"
    }
   },
   "outputs": [],
   "source": [
    "m = LinearRegression()\n",
    "m.fit(X_train, y_train)\n",
    "print(m.score(X_train, y_train), m.score(X_val, y_val), m.score(X_test, y_test))"
   ]
  },
  {
   "cell_type": "code",
   "execution_count": null,
   "metadata": {
    "ExecuteTime": {
     "end_time": "2019-04-19T01:11:31.332945Z",
     "start_time": "2019-04-19T01:11:31.329175Z"
    }
   },
   "outputs": [],
   "source": [
    "# create a new DataFrame with predictions and residuals\n",
    "y_pred = m.predict(X_test)\n",
    "resid_df = pd.DataFrame(data={'y_pred': y_pred, 'residual': y_test - y_pred})"
   ]
  },
  {
   "cell_type": "code",
   "execution_count": null,
   "metadata": {
    "ExecuteTime": {
     "end_time": "2019-04-19T01:37:21.362704Z",
     "start_time": "2019-04-19T01:37:21.129379Z"
    }
   },
   "outputs": [],
   "source": [
    "# Plot residuals\n",
    "plt.figure(figsize=(12,8))\n",
    "plt.scatter(y_pred, resid_df['residual'])\n",
    "plt.title('Residuals of Linear Regression on Rating', fontsize=30)\n",
    "plt.ylabel('Residual', fontsize=30)\n",
    "plt.xlabel('Predicted Rating', fontsize=30)\n",
    "plt.tick_params('both', labelsize=30)\n",
    "plt.tight_layout()\n",
    "plt.savefig('lr_residuals.png',transparent=True)"
   ]
  },
  {
   "cell_type": "code",
   "execution_count": null,
   "metadata": {
    "ExecuteTime": {
     "end_time": "2019-04-19T00:01:35.210387Z",
     "start_time": "2019-04-19T00:01:35.206914Z"
    }
   },
   "outputs": [],
   "source": [
    "# SAVE MODEL\n",
    "with open('lr_model.pkl', 'wb') as file:\n",
    "    pkl.dump(m, file)"
   ]
  },
  {
   "cell_type": "markdown",
   "metadata": {},
   "source": [
    "# Linear Regression (StatsModels)"
   ]
  },
  {
   "cell_type": "code",
   "execution_count": null,
   "metadata": {
    "ExecuteTime": {
     "end_time": "2019-04-19T00:15:59.567129Z",
     "start_time": "2019-04-19T00:15:59.524905Z"
    },
    "scrolled": false
   },
   "outputs": [],
   "source": [
    "# same as above except statsmodels gives more statistics\n",
    "m_sm = sm.OLS(y_train, sm.add_constant(X_train)).fit()\n",
    "m_sm.summary()"
   ]
  },
  {
   "cell_type": "code",
   "execution_count": null,
   "metadata": {
    "ExecuteTime": {
     "end_time": "2019-04-19T00:01:35.210387Z",
     "start_time": "2019-04-19T00:01:35.206914Z"
    }
   },
   "outputs": [],
   "source": [
    "# SAVE MODEL\n",
    "with open('lr_sm_model.pkl', 'wb') as file:\n",
    "    pkl.dump(m_sm, file)"
   ]
  },
  {
   "cell_type": "markdown",
   "metadata": {},
   "source": [
    "# Polynomial Features "
   ]
  },
  {
   "cell_type": "code",
   "execution_count": null,
   "metadata": {
    "ExecuteTime": {
     "end_time": "2019-04-18T21:59:06.879330Z",
     "start_time": "2019-04-18T21:59:06.876470Z"
    }
   },
   "outputs": [],
   "source": [
    "from sklearn.preprocessing import PolynomialFeatures"
   ]
  },
  {
   "cell_type": "code",
   "execution_count": null,
   "metadata": {
    "ExecuteTime": {
     "end_time": "2019-04-18T21:59:07.198867Z",
     "start_time": "2019-04-18T21:59:07.195927Z"
    }
   },
   "outputs": [],
   "source": [
    "pf = PolynomialFeatures(degree=2)"
   ]
  },
  {
   "cell_type": "code",
   "execution_count": null,
   "metadata": {
    "ExecuteTime": {
     "end_time": "2019-04-19T03:28:59.243213Z",
     "start_time": "2019-04-19T03:28:59.226075Z"
    }
   },
   "outputs": [],
   "source": [
    "poly_df = pd.DataFrame(pf.fit_transform(df[df_features_cols]), columns=pf.get_feature_names(input_features=df_features_cols))"
   ]
  },
  {
   "cell_type": "code",
   "execution_count": null,
   "metadata": {
    "ExecuteTime": {
     "end_time": "2019-04-19T03:29:40.080326Z",
     "start_time": "2019-04-19T03:29:40.034931Z"
    }
   },
   "outputs": [],
   "source": [
    "# manual train-val-holdout split  \n",
    "X2, X2_test, y2, y2_test = train_test_split(poly_df, df['rating'], test_size=0.2, random_state=59)\n",
    "X2_train, X2_val, y2_train, y2_val = train_test_split(X2, y2, test_size=0.25, random_state=59)"
   ]
  },
  {
   "cell_type": "markdown",
   "metadata": {},
   "source": [
    "# Linear Regression with Polynomial Features"
   ]
  },
  {
   "cell_type": "code",
   "execution_count": null,
   "metadata": {
    "ExecuteTime": {
     "end_time": "2019-04-19T03:29:40.080326Z",
     "start_time": "2019-04-19T03:29:40.034931Z"
    },
    "scrolled": false
   },
   "outputs": [],
   "source": [
    "m2 = LinearRegression()\n",
    "m2.fit(X2_train, y2_train)\n",
    "print(m2.score(X2_train, y2_train), m2.score(X2_val, y2_val), m2.score(X2_test, y2_test))\n",
    "print(list(sorted(zip(pf.get_feature_names(input_features=df_features_cols), m2.coef_), key=lambda x:abs(x[1]), reverse=True))[:10])"
   ]
  },
  {
   "cell_type": "code",
   "execution_count": null,
   "metadata": {},
   "outputs": [],
   "source": [
    "# SAVE MODEL\n",
    "with open('lr_pf_model.pkl', 'wb') as file:\n",
    "    pkl.dump(m2, file)"
   ]
  },
  {
   "cell_type": "markdown",
   "metadata": {},
   "source": [
    "# LASSO Regression with Polynomial Features"
   ]
  },
  {
   "cell_type": "code",
   "execution_count": null,
   "metadata": {
    "ExecuteTime": {
     "end_time": "2019-04-19T03:30:48.754503Z",
     "start_time": "2019-04-19T03:30:48.744365Z"
    }
   },
   "outputs": [],
   "source": [
    "# scale features before using regularization\n",
    "std = StandardScaler()  \n",
    "X2_train_std = std.fit_transform(X2_train)  \n",
    "X2_val_std = std.transform(X2_val)\n",
    "X2_test_std = std.transform(X2_test)"
   ]
  },
  {
   "cell_type": "code",
   "execution_count": null,
   "metadata": {
    "ExecuteTime": {
     "end_time": "2019-04-19T05:06:19.036645Z",
     "start_time": "2019-04-19T05:06:19.032775Z"
    }
   },
   "outputs": [],
   "source": [
    "# grid search of alphas \n",
    "alphalist = 10**(np.linspace(-5,5,1000))\n",
    "err_vec_val = np.zeros(len(alphalist))\n",
    "err_vec_train = np.zeros(len(alphalist))"
   ]
  },
  {
   "cell_type": "code",
   "execution_count": null,
   "metadata": {
    "ExecuteTime": {
     "end_time": "2019-04-19T05:07:59.648068Z",
     "start_time": "2019-04-19T05:07:58.098449Z"
    }
   },
   "outputs": [],
   "source": [
    "for i, alpha in enumerate(alphalist):\n",
    "    lasso = Lasso(alpha=alpha)\n",
    "    lasso.fit(X2_train_std, y2_train)\n",
    "    err_vec_val[i] = lasso.score(X2_test_std, y2_test)\n",
    "    \n",
    "    ### other metrics to evaluate alpha\n",
    "    #val_set_pred = lasso.predict(X_val_std)\n",
    "    #err_vec_val[i] = metrics.mean_absolute_error(y_val, val_set_pred)\n",
    "    #err_vec_val[i] = np.log(metrics.mean_squared_error(y_val, val_set_pred))"
   ]
  },
  {
   "cell_type": "code",
   "execution_count": null,
   "metadata": {
    "ExecuteTime": {
     "end_time": "2019-04-19T05:12:25.346242Z",
     "start_time": "2019-04-19T05:12:25.342308Z"
    }
   },
   "outputs": [],
   "source": [
    "best_alpha = alphalist[np.argmax(err_vec_val)]"
   ]
  },
  {
   "cell_type": "code",
   "execution_count": null,
   "metadata": {
    "ExecuteTime": {
     "end_time": "2019-04-19T05:12:21.178793Z",
     "start_time": "2019-04-19T05:12:21.031430Z"
    }
   },
   "outputs": [],
   "source": [
    "plt.plot(np.log10(alphalist), err_vec_val)"
   ]
  },
  {
   "cell_type": "code",
   "execution_count": null,
   "metadata": {
    "ExecuteTime": {
     "end_time": "2019-04-19T03:32:49.736686Z",
     "start_time": "2019-04-19T03:32:49.701089Z"
    }
   },
   "outputs": [],
   "source": [
    "m_lasso = Lasso(alpha=best_alpha)\n",
    "m_lasso.fit(X2_train_std, y2_train)\n",
    "print(m_lasso.score(X2_train_std, y2_train), m_lasso.score(X2_val_std, y2_val), m_lasso.score(X2_test_std, y2_test))"
   ]
  },
  {
   "cell_type": "code",
   "execution_count": null,
   "metadata": {
    "ExecuteTime": {
     "end_time": "2019-04-18T21:59:46.068580Z",
     "start_time": "2019-04-18T21:59:46.044133Z"
    }
   },
   "outputs": [],
   "source": [
    "# list important features \n",
    "print(sorted(list(zip(pf.get_feature_names(input_features=df_features_cols), m_lasso.coef_)), \n",
    "             key=lambda x:abs(x[1]), reverse=True))"
   ]
  },
  {
   "cell_type": "code",
   "execution_count": null,
   "metadata": {
    "ExecuteTime": {
     "end_time": "2019-04-19T15:47:50.926850Z",
     "start_time": "2019-04-19T15:47:50.920149Z"
    }
   },
   "outputs": [],
   "source": [
    "print(mean_absolute_error(y2_test, m_lasso.predict(X2_test_std)))\n",
    "print(mean_squared_error(y2_test, m_lasso.predict(X2_test_std)))\n",
    "print(np.sqrt(mean_squared_error(y2_test, m_lasso.predict(X2_test_std))))"
   ]
  },
  {
   "cell_type": "code",
   "execution_count": null,
   "metadata": {},
   "outputs": [],
   "source": [
    "# SAVE MODEL\n",
    "with open('lasso_pf_model.pkl', 'wb') as file:\n",
    "    pkl.dump(m_lasso, file)"
   ]
  },
  {
   "cell_type": "markdown",
   "metadata": {},
   "source": [
    "# Ridge Regression with Polynomial Features"
   ]
  },
  {
   "cell_type": "code",
   "execution_count": null,
   "metadata": {
    "ExecuteTime": {
     "end_time": "2019-04-19T03:30:48.754503Z",
     "start_time": "2019-04-19T03:30:48.744365Z"
    }
   },
   "outputs": [],
   "source": [
    "# scale features before using regularization\n",
    "std = StandardScaler()  \n",
    "X2_train_std = std.fit_transform(X2_train)  \n",
    "X2_val_std = std.transform(X2_val)\n",
    "X2_test_std = std.transform(X2_test)"
   ]
  },
  {
   "cell_type": "code",
   "execution_count": null,
   "metadata": {
    "ExecuteTime": {
     "end_time": "2019-04-19T05:06:19.036645Z",
     "start_time": "2019-04-19T05:06:19.032775Z"
    }
   },
   "outputs": [],
   "source": [
    "# grid search of alphas \n",
    "alphalist = 10**(np.linspace(-5,5,1000))\n",
    "err_vec_val = np.zeros(len(alphalist))\n",
    "err_vec_train = np.zeros(len(alphalist))"
   ]
  },
  {
   "cell_type": "code",
   "execution_count": null,
   "metadata": {
    "ExecuteTime": {
     "end_time": "2019-04-19T05:07:59.648068Z",
     "start_time": "2019-04-19T05:07:58.098449Z"
    }
   },
   "outputs": [],
   "source": [
    "for i, alpha in enumerate(alphalist):\n",
    "    ridge = Ridge(alpha=alpha)\n",
    "    ridge.fit(X2_train_std, y2_train)\n",
    "    err_vec_val[i] = ridge.score(X2_test_std, y2_test)\n",
    "    \n",
    "    ### other metrics to evaluate alpha\n",
    "    #val_set_pred = lasso.predict(X_val_std)\n",
    "    #err_vec_val[i] = metrics.mean_absolute_error(y_val, val_set_pred)\n",
    "    #err_vec_val[i] = np.log(metrics.mean_squared_error(y_val, val_set_pred))"
   ]
  },
  {
   "cell_type": "code",
   "execution_count": null,
   "metadata": {
    "ExecuteTime": {
     "end_time": "2019-04-19T05:12:25.346242Z",
     "start_time": "2019-04-19T05:12:25.342308Z"
    }
   },
   "outputs": [],
   "source": [
    "best_alpha = alphalist[np.argmax(err_vec_val)]"
   ]
  },
  {
   "cell_type": "code",
   "execution_count": null,
   "metadata": {
    "ExecuteTime": {
     "end_time": "2019-04-19T05:12:21.178793Z",
     "start_time": "2019-04-19T05:12:21.031430Z"
    }
   },
   "outputs": [],
   "source": [
    "plt.plot(np.log10(alphalist), err_vec_val)"
   ]
  },
  {
   "cell_type": "code",
   "execution_count": null,
   "metadata": {
    "ExecuteTime": {
     "end_time": "2019-04-18T21:59:48.754359Z",
     "start_time": "2019-04-18T21:59:48.694416Z"
    }
   },
   "outputs": [],
   "source": [
    "m_ridge = Ridge(alpha=best_alpha)\n",
    "m_ridge.fit(X2_train_std, y_train)\n",
    "print(m_ridge.score(X2_train_std, y2_train), m_ridge.score(X2_val_std, y2_val), m_ridge.score(X2_test_std, y2_test))"
   ]
  },
  {
   "cell_type": "code",
   "execution_count": null,
   "metadata": {
    "ExecuteTime": {
     "end_time": "2019-04-18T21:59:51.277593Z",
     "start_time": "2019-04-18T21:59:51.267465Z"
    }
   },
   "outputs": [],
   "source": [
    "# list important features \n",
    "print(sorted(list(zip(pf.get_feature_names(input_features=df_features_cols), m_ridge.coef_)), \n",
    "             key=lambda x:abs(x[1]), reverse=True))"
   ]
  },
  {
   "cell_type": "code",
   "execution_count": null,
   "metadata": {
    "ExecuteTime": {
     "end_time": "2019-04-19T15:48:32.748016Z",
     "start_time": "2019-04-19T15:48:32.741373Z"
    }
   },
   "outputs": [],
   "source": [
    "print(mean_absolute_error(y2_test, m_ridge.predict(X2_test_std)))\n",
    "print(mean_squared_error(y2_test, m_ridge.predict(X2_test_std)))\n",
    "print(np.sqrt(mean_squared_error(y2_test, m_ridge.predict(X2_test_std))))"
   ]
  },
  {
   "cell_type": "code",
   "execution_count": null,
   "metadata": {},
   "outputs": [],
   "source": [
    "# SAVE MODEL\n",
    "with open('ridge_pf_model.pkl', 'wb') as file:\n",
    "    pkl.dump(m_ridge, file)"
   ]
  },
  {
   "cell_type": "markdown",
   "metadata": {},
   "source": [
    "# Random Forest "
   ]
  },
  {
   "cell_type": "code",
   "execution_count": null,
   "metadata": {
    "ExecuteTime": {
     "end_time": "2019-04-19T16:52:27.384283Z",
     "start_time": "2019-04-19T16:52:27.318605Z"
    }
   },
   "outputs": [],
   "source": [
    "rfr = RandomForestRegressor(n_estimators=30, min_samples_split=20, random_state=32)  \n",
    "rfr.fit(X_train, y_train)  \n",
    "y_pred = rfr.predict(X_test)"
   ]
  },
  {
   "cell_type": "code",
   "execution_count": null,
   "metadata": {
    "ExecuteTime": {
     "end_time": "2019-04-19T16:52:32.085480Z",
     "start_time": "2019-04-19T16:52:32.079086Z"
    },
    "scrolled": true
   },
   "outputs": [],
   "source": [
    "print('Mean Absolute Error:', mean_absolute_error(y_test, y_pred))  \n",
    "print('Mean Squared Error:', mean_squared_error(y_test, y_pred))  \n",
    "print('Root Mean Squared Error:', np.sqrt(mean_squared_error(y_test, y_pred))) "
   ]
  },
  {
   "cell_type": "code",
   "execution_count": null,
   "metadata": {
    "ExecuteTime": {
     "end_time": "2019-04-19T16:52:52.230154Z",
     "start_time": "2019-04-19T16:52:52.218603Z"
    },
    "scrolled": true
   },
   "outputs": [],
   "source": [
    "print(rfr.score(X_train, y_train), rfr.score(X_val, y_val), rfr.score(X_test, y_test))"
   ]
  },
  {
   "cell_type": "code",
   "execution_count": null,
   "metadata": {
    "ExecuteTime": {
     "end_time": "2019-04-19T16:52:59.220691Z",
     "start_time": "2019-04-19T16:52:59.212672Z"
    }
   },
   "outputs": [],
   "source": [
    "list(sorted((zip(df_features_cols, rfr.feature_importances_)), key=lambda x: abs(x[1]), reverse=True))"
   ]
  },
  {
   "cell_type": "code",
   "execution_count": null,
   "metadata": {
    "ExecuteTime": {
     "end_time": "2019-04-19T03:06:43.357213Z",
     "start_time": "2019-04-19T03:06:42.865230Z"
    }
   },
   "outputs": [],
   "source": [
    "plt.figure(figsize=(12,20))\n",
    "plt.subplot(2,1,1)\n",
    "plt.scatter(resid_df['y_pred'], resid_df['residual'])\n",
    "plt.title('Residuals of Linear Regression', fontsize=30)\n",
    "plt.ylabel('Residual', fontsize=30)\n",
    "plt.xlabel('Predicted Rating', fontsize=30)\n",
    "plt.tick_params('both', labelsize=30)\n",
    "plt.subplot(2,1,2)\n",
    "plt.scatter(rfr.predict(X_test), y_test - rfr.predict(X_test))\n",
    "plt.title('Residuals of Random Forest Regression', fontsize=30)\n",
    "plt.ylabel('Residual', fontsize=30)\n",
    "plt.xlabel('Predicted Rating', fontsize=30)\n",
    "plt.tick_params('both', labelsize=30)\n",
    "plt.tight_layout()\n",
    "plt.savefig('rf_residuals.png',transparent=True)"
   ]
  },
  {
   "cell_type": "code",
   "execution_count": null,
   "metadata": {},
   "outputs": [],
   "source": [
    "# SAVE MODEL\n",
    "with open('rf_model.pkl', 'wb') as file:\n",
    "    pkl.dump(rfr, file)"
   ]
  },
  {
   "cell_type": "code",
   "execution_count": null,
   "metadata": {},
   "outputs": [],
   "source": []
  }
 ],
 "metadata": {
  "kernelspec": {
   "display_name": "Python 3",
   "language": "python",
   "name": "python3"
  },
  "language_info": {
   "codemirror_mode": {
    "name": "ipython",
    "version": 3
   },
   "file_extension": ".py",
   "mimetype": "text/x-python",
   "name": "python",
   "nbconvert_exporter": "python",
   "pygments_lexer": "ipython3",
   "version": "3.7.3"
  },
  "varInspector": {
   "cols": {
    "lenName": 16,
    "lenType": 16,
    "lenVar": 40
   },
   "kernels_config": {
    "python": {
     "delete_cmd_postfix": "",
     "delete_cmd_prefix": "del ",
     "library": "var_list.py",
     "varRefreshCmd": "print(var_dic_list())"
    },
    "r": {
     "delete_cmd_postfix": ") ",
     "delete_cmd_prefix": "rm(",
     "library": "var_list.r",
     "varRefreshCmd": "cat(var_dic_list()) "
    }
   },
   "types_to_exclude": [
    "module",
    "function",
    "builtin_function_or_method",
    "instance",
    "_Feature"
   ],
   "window_display": false
  }
 },
 "nbformat": 4,
 "nbformat_minor": 2
}
