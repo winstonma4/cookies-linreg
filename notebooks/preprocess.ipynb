{
 "cells": [
  {
   "cell_type": "code",
   "execution_count": 18,
   "metadata": {
    "ExecuteTime": {
     "end_time": "2019-04-18T01:34:39.941227Z",
     "start_time": "2019-04-18T01:34:38.610677Z"
    },
    "scrolled": true
   },
   "outputs": [],
   "source": [
    "import pandas as pd\n",
    "import numpy as np\n",
    "import matplotlib.pyplot as plt\n",
    "import seaborn as sns\n",
    "import pickle as pkl\n",
    "import re\n",
    "%matplotlib inline"
   ]
  },
  {
   "cell_type": "code",
   "execution_count": 19,
   "metadata": {
    "ExecuteTime": {
     "end_time": "2019-04-15T16:03:27.421207Z",
     "start_time": "2019-04-15T16:03:27.417291Z"
    }
   },
   "outputs": [],
   "source": [
    "pd.set_option('display.max_columns', 100)\n",
    "pd.set_option('display.max_rows', 100)"
   ]
  },
  {
   "cell_type": "code",
   "execution_count": 20,
   "metadata": {
    "ExecuteTime": {
     "end_time": "2019-04-18T01:36:50.397191Z",
     "start_time": "2019-04-18T01:36:50.389129Z"
    }
   },
   "outputs": [],
   "source": [
    "with open('test_df.pkl', 'rb') as file:\n",
    "    df = pkl.load(file)"
   ]
  },
  {
   "cell_type": "code",
   "execution_count": 21,
   "metadata": {
    "ExecuteTime": {
     "end_time": "2019-04-12T19:28:42.454251Z",
     "start_time": "2019-04-12T19:28:42.443313Z"
    }
   },
   "outputs": [],
   "source": [
    "def convert_time(bake_time):\n",
    "    import datetime as dt\n",
    "    \n",
    "    if re.compile('[0-9]* h [0-9]* m').match(bake_time):\n",
    "        time = pd.to_datetime(bake_time, format='%H h %M m')\n",
    "    elif re.compile('[0-9]* m').match(bake_time):\n",
    "        time = pd.to_datetime(bake_time, format='%M m')\n",
    "    elif re.compile('[0-9]* h').match(bake_time):\n",
    "        time = pd.to_datetime(bake_time, format='%H h')\n",
    "        \n",
    "    minutes = (time - dt.datetime(1900,1,1)).total_seconds() / 60\n",
    "    \n",
    "    return minutes"
   ]
  },
  {
   "cell_type": "markdown",
   "metadata": {},
   "source": [
    "## Convert all columns to numerical values"
   ]
  },
  {
   "cell_type": "code",
   "execution_count": 22,
   "metadata": {
    "ExecuteTime": {
     "end_time": "2019-04-12T19:25:44.026700Z",
     "start_time": "2019-04-12T19:25:44.023546Z"
    }
   },
   "outputs": [],
   "source": [
    "df['rating'] = df['rating'].astype(float)\n",
    "df['servings'] = df['servings'].astype(int)\n",
    "df['calories'] = df['calories'].str.replace('calories', '').str.strip()\n",
    "df['calories'] = df['calories'].fillna(df.dropna()['calories'].astype(int).mean()).astype(int)\n",
    "df['made_it'] = df['made_it'].str.replace('made it', '').str.strip().str.replace('k', '000').astype(int)\n",
    "df['num_photos'] = df['num_photos'].str.replace(' photos', '').str.replace('k', '000').astype(int)\n",
    "df['num_reviews'] = df['num_reviews'].str.replace(' reviews', '').str.replace('k', '000').astype(int)\n",
    "df['num_ratings'] = df['num_ratings'].str.replace(' Ratings', '')\n",
    "df['num_ratings'] = df['num_ratings'].fillna(df['made_it'])\n",
    "df['num_ratings'] = df['num_ratings'].astype(int)\n",
    "df['prep_time'] = df['prep_time'].fillna('0 m').str.strip()\n",
    "df['prep_time'] = df['prep_time'].str.strip()\n",
    "df['prep_time_minutes'] = df['prep_time'].apply(lambda x: convert_time(x))"
   ]
  },
  {
   "cell_type": "markdown",
   "metadata": {},
   "source": [
    "#### Preprocess oven temperatures"
   ]
  },
  {
   "cell_type": "code",
   "execution_count": 23,
   "metadata": {
    "ExecuteTime": {
     "end_time": "2019-04-12T19:25:55.589267Z",
     "start_time": "2019-04-12T19:25:55.567341Z"
    }
   },
   "outputs": [],
   "source": [
    "oven_temps = df['oven_temp'].str.replace('\\D', ' ', regex=True).str.split().fillna(0).to_list()\n",
    "\n",
    "for i, temp in enumerate(oven_temps):\n",
    "    if temp == 0:\n",
    "        oven_temps[i] = [0]\n",
    "\n",
    "temps = []\n",
    "for i, line in enumerate(oven_temps):\n",
    "    for num in line:\n",
    "        temperature = int(num)\n",
    "        if temperature > 220:\n",
    "            temps.append(temperature)\n",
    "        elif temperature == 0:\n",
    "            temps.append(0)\n",
    "\n",
    "df['oven_temp'] = temps"
   ]
  },
  {
   "cell_type": "code",
   "execution_count": 24,
   "metadata": {
    "ExecuteTime": {
     "end_time": "2019-04-12T19:29:16.006440Z",
     "start_time": "2019-04-12T19:29:16.002029Z"
    }
   },
   "outputs": [],
   "source": [
    "df = df[['name', 'rating', 'num_ratings', 'num_reviews', 'made_it',\n",
    "       'servings', 'calories', 'num_photos', 'oven_temp', 'prep_time_minutes', 'ingredients']]"
   ]
  },
  {
   "cell_type": "markdown",
   "metadata": {},
   "source": [
    "## Process ingredient strings"
   ]
  },
  {
   "cell_type": "code",
   "execution_count": 25,
   "metadata": {
    "ExecuteTime": {
     "end_time": "2019-04-15T16:09:49.150837Z",
     "start_time": "2019-04-15T16:09:49.141478Z"
    }
   },
   "outputs": [],
   "source": [
    "def get_ingredient(ingredient, recipes):\n",
    "    \n",
    "    \"\"\"\n",
    "    Gets the line of the ingredient list containing the requested ingredient. \n",
    "    \n",
    "    Parameters:\n",
    "        ingredient (str): name of the ingredient \n",
    "        recipes (list): list of ingredients for each recipe\n",
    "    Returns:\n",
    "        ingredient_list (list): a single list matching the length of the input recipes list\n",
    "                                containing the line of the recipe which has the requested ingredient\n",
    "    \"\"\"\n",
    "    \n",
    "    ingredient_list = []\n",
    "    counter = 0\n",
    "    for i, row in enumerate(recipes):\n",
    "        for item in row:\n",
    "            if item.find(ingredient) != -1:\n",
    "                ingredient_list.append(item)\n",
    "                counter += 1\n",
    "                break\n",
    "        if counter == 0:\n",
    "            ingredient_list.append('0')\n",
    "        counter = 0\n",
    "    \n",
    "    return ingredient_list"
   ]
  },
  {
   "cell_type": "code",
   "execution_count": 26,
   "metadata": {
    "ExecuteTime": {
     "end_time": "2019-04-15T16:09:49.599905Z",
     "start_time": "2019-04-15T16:09:49.594705Z"
    }
   },
   "outputs": [],
   "source": [
    "def get_measurement(ingredient):\n",
    "    \n",
    "    \"\"\"\n",
    "    Gets the line of the ingredient list containing the requested ingredient. \n",
    "    \n",
    "    Parameters:\n",
    "        ingredient (str): name of the ingredient \n",
    "    Returns:\n",
    "        amount (list): a single list matching the length of the input ingredient list\n",
    "                       containing the amount (float) of the ingredient for each recipe \n",
    "    \"\"\"\n",
    "    \n",
    "    amounts = []\n",
    "    for row in ingredient:\n",
    "        #if re.match('\\d* ' + unit, row):\n",
    "            #row = re.sub(' ' + unit + '\\D*.*', '', row)\n",
    "        if re.match('\\d*', row):\n",
    "            row = re.sub(' \\D*.*', '', row)\n",
    "        amounts.append(float(row))\n",
    "    return amounts"
   ]
  },
  {
   "cell_type": "code",
   "execution_count": 27,
   "metadata": {
    "ExecuteTime": {
     "end_time": "2019-04-11T21:10:17.713845Z",
     "start_time": "2019-04-11T21:10:17.710920Z"
    }
   },
   "outputs": [],
   "source": [
    "recipes_ingredients = df['ingredients'].to_list()"
   ]
  },
  {
   "cell_type": "code",
   "execution_count": 28,
   "metadata": {
    "ExecuteTime": {
     "end_time": "2019-04-11T21:22:29.918105Z",
     "start_time": "2019-04-11T21:22:29.914380Z"
    }
   },
   "outputs": [],
   "source": [
    "num_ingredients = []\n",
    "for row in recipes_ingredients:\n",
    "    num_ingredients.append(len(row))"
   ]
  },
  {
   "cell_type": "code",
   "execution_count": 29,
   "metadata": {
    "ExecuteTime": {
     "end_time": "2019-04-18T01:38:38.646491Z",
     "start_time": "2019-04-18T01:38:38.642500Z"
    }
   },
   "outputs": [],
   "source": [
    "df['num_ingredients'] = num_ingredients"
   ]
  },
  {
   "cell_type": "code",
   "execution_count": 30,
   "metadata": {},
   "outputs": [],
   "source": [
    "ingredient_names = [('butter', 'g'), ('shortening', 'g'), ('oil', 'ml'), ('margarine', 'g'), ('white sugar', 'g'), ('brown sugar', 'g'), \n",
    "                     ('semisweet chocolate chips', 'g'), ('white chocolate chips', 'g'), ('milk chocolate chips', 'g'),\n",
    "                     ('dark chocolate chips', 'g'), ('mint chocolate chips', 'g'), ('flour', 'g'), ('almond flour', 'g'), \n",
    "                     ('wheat flour', 'g'), ('vanilla extract', 'ml'), ('salt', 'g'), ('cinnamon', 'g'), ('baking soda', 'g'), \n",
    "                     ('walnuts', 'g'), ('pecans', 'g'), ('almonds', 'g'), ('macadamia', 'g'), ('confectioner sugar', 'g'), \n",
    "                     ('baking powder', 'g'), ('water', 'ml'), ('cocoa powder', 'g'), ('egg', 'whole')]"
   ]
  },
  {
   "cell_type": "code",
   "execution_count": 31,
   "metadata": {},
   "outputs": [],
   "source": [
    "for ingredient in ingredient_names:\n",
    "    col_name = f\"{'_'.join(ingredient[0].split())}_{ingredient[1]}\"\n",
    "    df[col_name] = get_measurement(get_ingredient(ingredient[0], recipes_ingredients))"
   ]
  },
  {
   "cell_type": "code",
   "execution_count": 32,
   "metadata": {},
   "outputs": [],
   "source": [
    "df = df[['name', 'rating', 'num_ratings', 'num_reviews', 'made_it', 'servings',\n",
    "       'calories', 'num_photos', 'oven_temp', 'prep_time_minutes',\n",
    "       'num_ingredients', 'butter_g', 'shortening_g', 'oil_ml', 'margarine_g',\n",
    "       'white_sugar_g', 'brown_sugar_g', 'semisweet_chocolate_chips_g',\n",
    "       'white_chocolate_chips_g', 'milk_chocolate_chips_g',\n",
    "       'dark_chocolate_chips_g', 'mint_chocolate_chips_g', 'flour_g',\n",
    "       'almond_flour_g', 'wheat_flour_g', 'vanilla_extract_ml', 'salt_g',\n",
    "       'cinnamon_g', 'baking_soda_g', 'walnuts_g', 'pecans_g', 'almonds_g',\n",
    "       'macadamia_g', 'confectioner_sugar_g', 'baking_powder_g', 'water_ml',\n",
    "       'cocoa_powder_g', 'egg_whole']]"
   ]
  },
  {
   "cell_type": "code",
   "execution_count": 33,
   "metadata": {},
   "outputs": [
    {
     "data": {
      "text/html": [
       "<div>\n",
       "<style scoped>\n",
       "    .dataframe tbody tr th:only-of-type {\n",
       "        vertical-align: middle;\n",
       "    }\n",
       "\n",
       "    .dataframe tbody tr th {\n",
       "        vertical-align: top;\n",
       "    }\n",
       "\n",
       "    .dataframe thead th {\n",
       "        text-align: right;\n",
       "    }\n",
       "</style>\n",
       "<table border=\"1\" class=\"dataframe\">\n",
       "  <thead>\n",
       "    <tr style=\"text-align: right;\">\n",
       "      <th></th>\n",
       "      <th>name</th>\n",
       "      <th>rating</th>\n",
       "      <th>num_ratings</th>\n",
       "      <th>num_reviews</th>\n",
       "      <th>made_it</th>\n",
       "      <th>servings</th>\n",
       "      <th>calories</th>\n",
       "      <th>num_photos</th>\n",
       "      <th>oven_temp</th>\n",
       "      <th>prep_time_minutes</th>\n",
       "      <th>num_ingredients</th>\n",
       "      <th>butter_g</th>\n",
       "      <th>shortening_g</th>\n",
       "      <th>oil_ml</th>\n",
       "      <th>margarine_g</th>\n",
       "      <th>white_sugar_g</th>\n",
       "      <th>brown_sugar_g</th>\n",
       "      <th>semisweet_chocolate_chips_g</th>\n",
       "      <th>white_chocolate_chips_g</th>\n",
       "      <th>milk_chocolate_chips_g</th>\n",
       "      <th>dark_chocolate_chips_g</th>\n",
       "      <th>mint_chocolate_chips_g</th>\n",
       "      <th>flour_g</th>\n",
       "      <th>almond_flour_g</th>\n",
       "      <th>wheat_flour_g</th>\n",
       "      <th>vanilla_extract_ml</th>\n",
       "      <th>salt_g</th>\n",
       "      <th>cinnamon_g</th>\n",
       "      <th>baking_soda_g</th>\n",
       "      <th>walnuts_g</th>\n",
       "      <th>pecans_g</th>\n",
       "      <th>almonds_g</th>\n",
       "      <th>macadamia_g</th>\n",
       "      <th>confectioner_sugar_g</th>\n",
       "      <th>baking_powder_g</th>\n",
       "      <th>water_ml</th>\n",
       "      <th>cocoa_powder_g</th>\n",
       "      <th>egg_whole</th>\n",
       "    </tr>\n",
       "  </thead>\n",
       "  <tbody>\n",
       "    <tr>\n",
       "      <th>0</th>\n",
       "      <td>Giant Chocolate Chip Cookie</td>\n",
       "      <td>4.687126</td>\n",
       "      <td>668</td>\n",
       "      <td>548</td>\n",
       "      <td>998</td>\n",
       "      <td>16</td>\n",
       "      <td>399</td>\n",
       "      <td>255</td>\n",
       "      <td>375</td>\n",
       "      <td>0.0</td>\n",
       "      <td>10</td>\n",
       "      <td>225.0</td>\n",
       "      <td>0.0</td>\n",
       "      <td>0.0</td>\n",
       "      <td>0.0</td>\n",
       "      <td>150.0</td>\n",
       "      <td>165.0</td>\n",
       "      <td>335.0</td>\n",
       "      <td>0.0</td>\n",
       "      <td>0.0</td>\n",
       "      <td>0.0</td>\n",
       "      <td>0.0</td>\n",
       "      <td>280.0</td>\n",
       "      <td>0.0</td>\n",
       "      <td>0.0</td>\n",
       "      <td>5.0</td>\n",
       "      <td>6.0</td>\n",
       "      <td>0.0</td>\n",
       "      <td>5.0</td>\n",
       "      <td>115.0</td>\n",
       "      <td>0.0</td>\n",
       "      <td>0.0</td>\n",
       "      <td>0.0</td>\n",
       "      <td>0.0</td>\n",
       "      <td>0.0</td>\n",
       "      <td>0.0</td>\n",
       "      <td>0.0</td>\n",
       "      <td>2.0</td>\n",
       "    </tr>\n",
       "    <tr>\n",
       "      <th>1</th>\n",
       "      <td>Best Chocolate Chip Cookies</td>\n",
       "      <td>4.612473</td>\n",
       "      <td>14608</td>\n",
       "      <td>10000</td>\n",
       "      <td>32000</td>\n",
       "      <td>24</td>\n",
       "      <td>298</td>\n",
       "      <td>3000</td>\n",
       "      <td>350</td>\n",
       "      <td>60.0</td>\n",
       "      <td>11</td>\n",
       "      <td>225.0</td>\n",
       "      <td>0.0</td>\n",
       "      <td>0.0</td>\n",
       "      <td>0.0</td>\n",
       "      <td>200.0</td>\n",
       "      <td>220.0</td>\n",
       "      <td>335.0</td>\n",
       "      <td>0.0</td>\n",
       "      <td>0.0</td>\n",
       "      <td>0.0</td>\n",
       "      <td>0.0</td>\n",
       "      <td>375.0</td>\n",
       "      <td>0.0</td>\n",
       "      <td>0.0</td>\n",
       "      <td>10.0</td>\n",
       "      <td>3.0</td>\n",
       "      <td>0.0</td>\n",
       "      <td>5.0</td>\n",
       "      <td>115.0</td>\n",
       "      <td>0.0</td>\n",
       "      <td>0.0</td>\n",
       "      <td>0.0</td>\n",
       "      <td>0.0</td>\n",
       "      <td>0.0</td>\n",
       "      <td>10.0</td>\n",
       "      <td>0.0</td>\n",
       "      <td>2.0</td>\n",
       "    </tr>\n",
       "    <tr>\n",
       "      <th>2</th>\n",
       "      <td>Outrageous Chocolate Chip Cookies</td>\n",
       "      <td>4.702152</td>\n",
       "      <td>2649</td>\n",
       "      <td>2000</td>\n",
       "      <td>4000</td>\n",
       "      <td>18</td>\n",
       "      <td>207</td>\n",
       "      <td>494</td>\n",
       "      <td>350</td>\n",
       "      <td>25.0</td>\n",
       "      <td>11</td>\n",
       "      <td>115.0</td>\n",
       "      <td>0.0</td>\n",
       "      <td>0.0</td>\n",
       "      <td>0.0</td>\n",
       "      <td>100.0</td>\n",
       "      <td>75.0</td>\n",
       "      <td>170.0</td>\n",
       "      <td>0.0</td>\n",
       "      <td>0.0</td>\n",
       "      <td>0.0</td>\n",
       "      <td>0.0</td>\n",
       "      <td>125.0</td>\n",
       "      <td>0.0</td>\n",
       "      <td>0.0</td>\n",
       "      <td>3.0</td>\n",
       "      <td>2.0</td>\n",
       "      <td>0.0</td>\n",
       "      <td>5.0</td>\n",
       "      <td>0.0</td>\n",
       "      <td>0.0</td>\n",
       "      <td>0.0</td>\n",
       "      <td>0.0</td>\n",
       "      <td>0.0</td>\n",
       "      <td>0.0</td>\n",
       "      <td>0.0</td>\n",
       "      <td>0.0</td>\n",
       "      <td>1.0</td>\n",
       "    </tr>\n",
       "    <tr>\n",
       "      <th>3</th>\n",
       "      <td>Mom's Chocolate Chip Cookies</td>\n",
       "      <td>4.596047</td>\n",
       "      <td>1265</td>\n",
       "      <td>1000</td>\n",
       "      <td>1000</td>\n",
       "      <td>24</td>\n",
       "      <td>233</td>\n",
       "      <td>175</td>\n",
       "      <td>375</td>\n",
       "      <td>0.0</td>\n",
       "      <td>9</td>\n",
       "      <td>225.0</td>\n",
       "      <td>0.0</td>\n",
       "      <td>0.0</td>\n",
       "      <td>0.0</td>\n",
       "      <td>50.0</td>\n",
       "      <td>165.0</td>\n",
       "      <td>335.0</td>\n",
       "      <td>0.0</td>\n",
       "      <td>0.0</td>\n",
       "      <td>0.0</td>\n",
       "      <td>0.0</td>\n",
       "      <td>280.0</td>\n",
       "      <td>0.0</td>\n",
       "      <td>0.0</td>\n",
       "      <td>5.0</td>\n",
       "      <td>0.0</td>\n",
       "      <td>0.0</td>\n",
       "      <td>5.0</td>\n",
       "      <td>0.0</td>\n",
       "      <td>0.0</td>\n",
       "      <td>0.0</td>\n",
       "      <td>0.0</td>\n",
       "      <td>0.0</td>\n",
       "      <td>0.0</td>\n",
       "      <td>0.0</td>\n",
       "      <td>0.0</td>\n",
       "      <td>2.0</td>\n",
       "    </tr>\n",
       "    <tr>\n",
       "      <th>4</th>\n",
       "      <td>Stephen's Chocolate Chip Cookies</td>\n",
       "      <td>4.622283</td>\n",
       "      <td>368</td>\n",
       "      <td>299</td>\n",
       "      <td>472</td>\n",
       "      <td>48</td>\n",
       "      <td>146</td>\n",
       "      <td>39</td>\n",
       "      <td>350</td>\n",
       "      <td>50.0</td>\n",
       "      <td>15</td>\n",
       "      <td>225.0</td>\n",
       "      <td>0.0</td>\n",
       "      <td>0.0</td>\n",
       "      <td>0.0</td>\n",
       "      <td>200.0</td>\n",
       "      <td>220.0</td>\n",
       "      <td>110.0</td>\n",
       "      <td>120.0</td>\n",
       "      <td>160.0</td>\n",
       "      <td>0.0</td>\n",
       "      <td>0.0</td>\n",
       "      <td>310.0</td>\n",
       "      <td>0.0</td>\n",
       "      <td>0.0</td>\n",
       "      <td>5.0</td>\n",
       "      <td>3.0</td>\n",
       "      <td>0.0</td>\n",
       "      <td>5.0</td>\n",
       "      <td>40.0</td>\n",
       "      <td>35.0</td>\n",
       "      <td>30.0</td>\n",
       "      <td>0.0</td>\n",
       "      <td>0.0</td>\n",
       "      <td>5.0</td>\n",
       "      <td>0.0</td>\n",
       "      <td>0.0</td>\n",
       "      <td>2.0</td>\n",
       "    </tr>\n",
       "  </tbody>\n",
       "</table>\n",
       "</div>"
      ],
      "text/plain": [
       "                                name    rating  num_ratings  num_reviews  \\\n",
       "0        Giant Chocolate Chip Cookie  4.687126          668          548   \n",
       "1        Best Chocolate Chip Cookies  4.612473        14608        10000   \n",
       "2  Outrageous Chocolate Chip Cookies  4.702152         2649         2000   \n",
       "3       Mom's Chocolate Chip Cookies  4.596047         1265         1000   \n",
       "4   Stephen's Chocolate Chip Cookies  4.622283          368          299   \n",
       "\n",
       "   made_it  servings  calories  num_photos  oven_temp  prep_time_minutes  \\\n",
       "0      998        16       399         255        375                0.0   \n",
       "1    32000        24       298        3000        350               60.0   \n",
       "2     4000        18       207         494        350               25.0   \n",
       "3     1000        24       233         175        375                0.0   \n",
       "4      472        48       146          39        350               50.0   \n",
       "\n",
       "   num_ingredients  butter_g  shortening_g  oil_ml  margarine_g  \\\n",
       "0               10     225.0           0.0     0.0          0.0   \n",
       "1               11     225.0           0.0     0.0          0.0   \n",
       "2               11     115.0           0.0     0.0          0.0   \n",
       "3                9     225.0           0.0     0.0          0.0   \n",
       "4               15     225.0           0.0     0.0          0.0   \n",
       "\n",
       "   white_sugar_g  brown_sugar_g  semisweet_chocolate_chips_g  \\\n",
       "0          150.0          165.0                        335.0   \n",
       "1          200.0          220.0                        335.0   \n",
       "2          100.0           75.0                        170.0   \n",
       "3           50.0          165.0                        335.0   \n",
       "4          200.0          220.0                        110.0   \n",
       "\n",
       "   white_chocolate_chips_g  milk_chocolate_chips_g  dark_chocolate_chips_g  \\\n",
       "0                      0.0                     0.0                     0.0   \n",
       "1                      0.0                     0.0                     0.0   \n",
       "2                      0.0                     0.0                     0.0   \n",
       "3                      0.0                     0.0                     0.0   \n",
       "4                    120.0                   160.0                     0.0   \n",
       "\n",
       "   mint_chocolate_chips_g  flour_g  almond_flour_g  wheat_flour_g  \\\n",
       "0                     0.0    280.0             0.0            0.0   \n",
       "1                     0.0    375.0             0.0            0.0   \n",
       "2                     0.0    125.0             0.0            0.0   \n",
       "3                     0.0    280.0             0.0            0.0   \n",
       "4                     0.0    310.0             0.0            0.0   \n",
       "\n",
       "   vanilla_extract_ml  salt_g  cinnamon_g  baking_soda_g  walnuts_g  pecans_g  \\\n",
       "0                 5.0     6.0         0.0            5.0      115.0       0.0   \n",
       "1                10.0     3.0         0.0            5.0      115.0       0.0   \n",
       "2                 3.0     2.0         0.0            5.0        0.0       0.0   \n",
       "3                 5.0     0.0         0.0            5.0        0.0       0.0   \n",
       "4                 5.0     3.0         0.0            5.0       40.0      35.0   \n",
       "\n",
       "   almonds_g  macadamia_g  confectioner_sugar_g  baking_powder_g  water_ml  \\\n",
       "0        0.0          0.0                   0.0              0.0       0.0   \n",
       "1        0.0          0.0                   0.0              0.0      10.0   \n",
       "2        0.0          0.0                   0.0              0.0       0.0   \n",
       "3        0.0          0.0                   0.0              0.0       0.0   \n",
       "4       30.0          0.0                   0.0              5.0       0.0   \n",
       "\n",
       "   cocoa_powder_g  egg_whole  \n",
       "0             0.0        2.0  \n",
       "1             0.0        2.0  \n",
       "2             0.0        1.0  \n",
       "3             0.0        2.0  \n",
       "4             0.0        2.0  "
      ]
     },
     "execution_count": 33,
     "metadata": {},
     "output_type": "execute_result"
    }
   ],
   "source": [
    "df.head()"
   ]
  },
  {
   "cell_type": "code",
   "execution_count": 34,
   "metadata": {
    "ExecuteTime": {
     "end_time": "2019-04-12T22:46:57.415793Z",
     "start_time": "2019-04-12T22:46:57.411215Z"
    }
   },
   "outputs": [],
   "source": [
    "ingredient_cols = ['butter_g','shortening_g', 'oil_ml', 'margarine_g', \n",
    "                   'white_sugar_g', 'brown_sugar_g', 'egg_whole',\n",
    "                   'semisweet_chocolate_chips_g', 'white_chocolate_chips_g',\n",
    "                   'milk_chocolate_chips_g', 'dark_chocolate_chips_g',\n",
    "                   'mint_chocolate_chips_g', 'flour_g', 'almond_flour_g', 'wheat_flour_g',\n",
    "                   'vanilla_extract_ml', 'salt_g', 'cinnamon_g', 'baking_soda_g',\n",
    "                   'walnuts_g', 'pecans_g', 'almonds_g', 'macadamia_g',\n",
    "                   'confectioner_sugar_g', 'baking_powder_g', 'water_ml',\n",
    "                   'cocoa_powder_g']"
   ]
  },
  {
   "cell_type": "code",
   "execution_count": 35,
   "metadata": {},
   "outputs": [],
   "source": [
    "# standardize ingredients per serving\n",
    "for col in ingredient_cols:\n",
    "    df[col] = df[col] / df['servings']"
   ]
  },
  {
   "cell_type": "code",
   "execution_count": 36,
   "metadata": {},
   "outputs": [
    {
     "data": {
      "text/plain": [
       "Index(['name', 'rating', 'num_ratings', 'num_reviews', 'made_it', 'servings',\n",
       "       'calories', 'num_photos', 'oven_temp', 'prep_time_minutes',\n",
       "       'num_ingredients', 'butter_g', 'shortening_g', 'oil_ml', 'margarine_g',\n",
       "       'white_sugar_g', 'brown_sugar_g', 'semisweet_chocolate_chips_g',\n",
       "       'white_chocolate_chips_g', 'milk_chocolate_chips_g',\n",
       "       'dark_chocolate_chips_g', 'mint_chocolate_chips_g', 'flour_g',\n",
       "       'almond_flour_g', 'wheat_flour_g', 'vanilla_extract_ml', 'salt_g',\n",
       "       'cinnamon_g', 'baking_soda_g', 'walnuts_g', 'pecans_g', 'almonds_g',\n",
       "       'macadamia_g', 'confectioner_sugar_g', 'baking_powder_g', 'water_ml',\n",
       "       'cocoa_powder_g', 'egg_whole'],\n",
       "      dtype='object')"
      ]
     },
     "execution_count": 36,
     "metadata": {},
     "output_type": "execute_result"
    }
   ],
   "source": [
    "df.columns"
   ]
  },
  {
   "cell_type": "markdown",
   "metadata": {},
   "source": [
    "# Feature Engineering"
   ]
  },
  {
   "cell_type": "code",
   "execution_count": 37,
   "metadata": {},
   "outputs": [],
   "source": [
    "df['fats'] = df['butter_g'] + df['shortening_g'] + df['oil_ml'] + df['margarine_g']"
   ]
  },
  {
   "cell_type": "code",
   "execution_count": 38,
   "metadata": {},
   "outputs": [],
   "source": [
    "df['sugars'] = df['white_sugar_g'] + df['brown_sugar_g'] + df['confectioner_sugar_g']"
   ]
  },
  {
   "cell_type": "code",
   "execution_count": 39,
   "metadata": {},
   "outputs": [],
   "source": [
    "df['flours'] = df['flour_g'] + df['almond_flour_g'] + df['wheat_flour_g']"
   ]
  },
  {
   "cell_type": "code",
   "execution_count": 40,
   "metadata": {},
   "outputs": [],
   "source": [
    "df['nuts'] = df['walnuts_g'] + df['pecans_g'] + df['almonds_g'] + df['macadamia_g']"
   ]
  },
  {
   "cell_type": "code",
   "execution_count": 41,
   "metadata": {},
   "outputs": [],
   "source": [
    "df['chocolate_chips'] = df['semisweet_chocolate_chips_g'] + df['white_chocolate_chips_g'] + df['milk_chocolate_chips_g'] + df['dark_chocolate_chips_g'] + df['mint_chocolate_chips_g']"
   ]
  },
  {
   "cell_type": "code",
   "execution_count": 42,
   "metadata": {},
   "outputs": [],
   "source": [
    "df['fats_sugars_ratio'] = df['fats'] / df['sugars']"
   ]
  },
  {
   "cell_type": "code",
   "execution_count": 43,
   "metadata": {},
   "outputs": [],
   "source": [
    "df.loc[(df['fats_sugars_ratio'] == np.inf), ['fats_sugars_ratio']] = 0"
   ]
  },
  {
   "cell_type": "code",
   "execution_count": 52,
   "metadata": {},
   "outputs": [],
   "source": [
    "df['fats_flours_ratio'] = df['fats'] / df['flours']"
   ]
  },
  {
   "cell_type": "code",
   "execution_count": 53,
   "metadata": {},
   "outputs": [],
   "source": [
    "df.loc[(df['fats_flours_ratio'] == np.inf), ['fats_flours_ratio']] = 0"
   ]
  },
  {
   "cell_type": "code",
   "execution_count": 44,
   "metadata": {},
   "outputs": [],
   "source": [
    "df['sugars_flours_ratio'] = df['sugars'] / df['flours']"
   ]
  },
  {
   "cell_type": "code",
   "execution_count": 45,
   "metadata": {},
   "outputs": [],
   "source": [
    "df['chips_nuts_ratio'] = df['chocolate_chips'] / df['nuts']"
   ]
  },
  {
   "cell_type": "code",
   "execution_count": 46,
   "metadata": {},
   "outputs": [],
   "source": [
    "df.loc[(df['chips_nuts_ratio'] == np.inf), ['chips_nuts_ratio']] = 0"
   ]
  },
  {
   "cell_type": "code",
   "execution_count": 47,
   "metadata": {},
   "outputs": [],
   "source": [
    "df.loc[(df['chips_nuts_ratio'].isnull()), ['chips_nuts_ratio']] = 0"
   ]
  },
  {
   "cell_type": "code",
   "execution_count": 48,
   "metadata": {},
   "outputs": [],
   "source": [
    "df['white_brown_ratio'] = df['white_sugar_g'] / df['brown_sugar_g']"
   ]
  },
  {
   "cell_type": "code",
   "execution_count": 49,
   "metadata": {},
   "outputs": [],
   "source": [
    "df.loc[(df['white_brown_ratio'] == np.inf), ['white_brown_ratio']] = 0"
   ]
  },
  {
   "cell_type": "code",
   "execution_count": 54,
   "metadata": {},
   "outputs": [],
   "source": [
    "# SAVE FILE!\n",
    "pd.to_pickle(df, 'df_all_cols.pkl')"
   ]
  },
  {
   "cell_type": "code",
   "execution_count": null,
   "metadata": {},
   "outputs": [],
   "source": []
  }
 ],
 "metadata": {
  "kernelspec": {
   "display_name": "Python 3",
   "language": "python",
   "name": "python3"
  },
  "language_info": {
   "codemirror_mode": {
    "name": "ipython",
    "version": 3
   },
   "file_extension": ".py",
   "mimetype": "text/x-python",
   "name": "python",
   "nbconvert_exporter": "python",
   "pygments_lexer": "ipython3",
   "version": "3.7.3"
  },
  "varInspector": {
   "cols": {
    "lenName": 16,
    "lenType": 16,
    "lenVar": 40
   },
   "kernels_config": {
    "python": {
     "delete_cmd_postfix": "",
     "delete_cmd_prefix": "del ",
     "library": "var_list.py",
     "varRefreshCmd": "print(var_dic_list())"
    },
    "r": {
     "delete_cmd_postfix": ") ",
     "delete_cmd_prefix": "rm(",
     "library": "var_list.r",
     "varRefreshCmd": "cat(var_dic_list()) "
    }
   },
   "types_to_exclude": [
    "module",
    "function",
    "builtin_function_or_method",
    "instance",
    "_Feature"
   ],
   "window_display": false
  }
 },
 "nbformat": 4,
 "nbformat_minor": 2
}
